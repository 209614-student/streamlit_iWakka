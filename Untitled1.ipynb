{
 "cells": [
  {
   "cell_type": "code",
   "execution_count": 2,
   "metadata": {},
   "outputs": [
    {
     "ename": "ModuleNotFoundError",
     "evalue": "No module named 'cv2'",
     "output_type": "error",
     "traceback": [
      "\u001b[0;31m---------------------------------------------------------------------------\u001b[0m",
      "\u001b[0;31mModuleNotFoundError\u001b[0m                       Traceback (most recent call last)",
      "\u001b[0;32m<ipython-input-2-164f3005f9db>\u001b[0m in \u001b[0;36m<module>\u001b[0;34m\u001b[0m\n\u001b[1;32m      7\u001b[0m \u001b[0;32mfrom\u001b[0m \u001b[0mskimage\u001b[0m\u001b[0;34m.\u001b[0m\u001b[0mmorphology\u001b[0m \u001b[0;32mimport\u001b[0m \u001b[0merosion\u001b[0m\u001b[0;34m,\u001b[0m \u001b[0mdilation\u001b[0m\u001b[0;34m,\u001b[0m \u001b[0mopening\u001b[0m\u001b[0;34m,\u001b[0m \u001b[0mclosing\u001b[0m\u001b[0;34m\u001b[0m\u001b[0;34m\u001b[0m\u001b[0m\n\u001b[1;32m      8\u001b[0m \u001b[0;32mfrom\u001b[0m \u001b[0mskimage\u001b[0m\u001b[0;34m.\u001b[0m\u001b[0mmorphology\u001b[0m \u001b[0;32mimport\u001b[0m \u001b[0mdisk\u001b[0m\u001b[0;34m\u001b[0m\u001b[0;34m\u001b[0m\u001b[0m\n\u001b[0;32m----> 9\u001b[0;31m \u001b[0;32mimport\u001b[0m \u001b[0mcv2\u001b[0m\u001b[0;34m\u001b[0m\u001b[0;34m\u001b[0m\u001b[0m\n\u001b[0m\u001b[1;32m     10\u001b[0m \u001b[0;34m\u001b[0m\u001b[0m\n\u001b[1;32m     11\u001b[0m \u001b[0;31m## Wczytujemy plik\u001b[0m\u001b[0;34m\u001b[0m\u001b[0;34m\u001b[0m\u001b[0;34m\u001b[0m\u001b[0m\n",
      "\u001b[0;31mModuleNotFoundError\u001b[0m: No module named 'cv2'"
     ]
    }
   ],
   "source": [
    "# -*- coding: UTF-8 -*-\n",
    "import os\n",
    "import numpy as np\n",
    "import pydicom as dicom\n",
    "import matplotlib.pyplot as plt\n",
    "from skimage.color import rgb2gray\n",
    "from skimage.morphology import erosion, dilation, opening, closing\n",
    "from skimage.morphology import disk\n",
    "import cv2\n",
    "\n",
    "## Wczytujemy plik\n",
    "TestPath = \"/home/blue/Desktop/KORKI/PYTHON/DICOM2/SER00002\"\n",
    "\n",
    "# Grupuj pliki DICOM w liscie\n",
    "Dicom = [dicom.read_file(TestPath + '/' + s) for s in os.listdir(TestPath)]\n",
    "# Sortuj wedlug numeru przekroju\n",
    "Dicom.sort(key = lambda x: int(x.ImagePositionPatient[2]))\n",
    "\n",
    "# Wyświetl przykładowy skan\n",
    "img = Dicom[15].pixel_array * 130\n",
    "\n",
    "# Zwiekszamy kontrast\n",
    "contrast = np.zeros(img.shape, img.dtype)\n",
    "alpha = 0.01\n",
    "beta = 10\n",
    "for y in range(img.shape[0]):\n",
    "    for x in range(img.shape[1]):\n",
    "            contrast[y, x] = np.clip(alpha*img[y, x] + beta, 0, 255)\n",
    "\n",
    "cv2.namedWindow(\"Grayscale Slice\")\n",
    "cv2.imshow(\"Grayscale Slice\", img)\n",
    "cv2.waitKey(2000)\n",
    "\n",
    "def pix2hu(scans):\n",
    "    image = np.stack([s.pixel_array for s in scans])\n",
    "\n",
    "    # Convert to Hounsfield units (HU)\n",
    "    intercept = scans[0].RescaleIntercept\n",
    "    image += np.int16(intercept)\n",
    "\n",
    "    return np.array(image, dtype=np.int16)\n",
    "\n",
    "HU = pix2hu(Dicom)\n",
    "HU_img = HU[15]\n",
    "\n",
    "# Krwiak ma wartość 40 - 90 HU\n",
    "thresh = cv2.inRange(HU_img, 40, 90)\n",
    "cv2.namedWindow('Thresholded')\n",
    "cv2.imshow('Thresholded', thresh)\n",
    "cv2.waitKey(2000)\n",
    "\n",
    "# Usuwamy szumy za pomocą erozji\n",
    "# Tworzymy ziarna\n",
    "kernel1 = np.ones((7,7),np.uint8)\n",
    "kernel2 = np.ones((4,4),np.uint8)\n",
    "erosion = cv2.erode(thresh, kernel1)\n",
    "\n",
    "# Wracamy do rozmiaru poczatkowego za pomoca otwierania morfologicznego\n",
    "dilation = cv2.dilate(erosion, kernel2)\n",
    "\n",
    "cv2.namedWindow('Erosion')\n",
    "cv2.imshow('Erosion', erosion)\n",
    "cv2.waitKey(2000)\n",
    "\n",
    "cv2.namedWindow('Dilation')\n",
    "cv2.imshow('Dilation', dilation)\n",
    "cv2.waitKey(2000)\n",
    "\n",
    "cv2.destroyAllWindows()\n",
    "\n",
    "## Mamy pokazane cztery grafy - jeden z oryginalnym zdjeciem, \n",
    "## drugi po progowaniu intuicyjnym, trzeci po erozji, czwarty po dilacji"
   ]
  },
  {
   "cell_type": "code",
   "execution_count": null,
   "metadata": {},
   "outputs": [],
   "source": []
  }
 ],
 "metadata": {
  "kernelspec": {
   "display_name": "Python 3",
   "language": "python",
   "name": "python3"
  },
  "language_info": {
   "codemirror_mode": {
    "name": "ipython",
    "version": 3
   },
   "file_extension": ".py",
   "mimetype": "text/x-python",
   "name": "python",
   "nbconvert_exporter": "python",
   "pygments_lexer": "ipython3",
   "version": "3.7.4"
  }
 },
 "nbformat": 4,
 "nbformat_minor": 2
}
